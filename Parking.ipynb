{
 "cells": [
  {
   "cell_type": "code",
   "execution_count": 80,
   "id": "5ffbfa5e",
   "metadata": {},
   "outputs": [
    {
     "name": "stderr",
     "output_type": "stream",
     "text": [
      "C:\\Users\\Sai venkat\\anaconda3\\lib\\site-packages\\IPython\\core\\interactiveshell.py:3444: DtypeWarning: Columns (20,31,32) have mixed types.Specify dtype option on import or set low_memory=False.\n",
      "  exec(code_obj, self.user_global_ns, self.user_ns)\n"
     ]
    }
   ],
   "source": [
    "import pandas as pd\n",
    "data_311 = pd.read_csv(\"311_Service_Requests_2020.csv\")"
   ]
  },
  {
   "cell_type": "code",
   "execution_count": 81,
   "id": "36407a3f",
   "metadata": {},
   "outputs": [],
   "source": [
    "data_311_grpby = data_311[data_311[\"Incident Zip\"] == 10027].groupby(\"Complaint Type\").size()"
   ]
  },
  {
   "cell_type": "code",
   "execution_count": 82,
   "id": "60d3d359",
   "metadata": {},
   "outputs": [],
   "source": [
    "data_311_grpby_comp = data_311.groupby([\"Complaint Type\"]).size()"
   ]
  },
  {
   "cell_type": "code",
   "execution_count": 83,
   "id": "42abf7a7",
   "metadata": {},
   "outputs": [],
   "source": [
    "data_311_grpby_comp_updt = data_311_grpby.reset_index()"
   ]
  },
  {
   "cell_type": "code",
   "execution_count": 85,
   "id": "1f14deb8",
   "metadata": {},
   "outputs": [],
   "source": [
    "Fraction_Incident_Zip = data_311_grpby_comp_updt[data_311_grpby_comp_updt[\"Complaint Type\"] == \"Illegal Parking\"][0]/data_311_grpby_comp_updt.sum(0)[0]"
   ]
  },
  {
   "cell_type": "code",
   "execution_count": 86,
   "id": "1dcea3f2",
   "metadata": {},
   "outputs": [],
   "source": [
    "Fraction_Incident_Zip = float(Fraction_Incident_Zip)"
   ]
  },
  {
   "cell_type": "code",
   "execution_count": 87,
   "id": "17fc0eb2",
   "metadata": {},
   "outputs": [
    {
     "data": {
      "text/plain": [
       "0.05207265952491849"
      ]
     },
     "execution_count": 87,
     "metadata": {},
     "output_type": "execute_result"
    }
   ],
   "source": [
    "Fraction_Incident_Zip"
   ]
  },
  {
   "cell_type": "code",
   "execution_count": 88,
   "id": "a9db1e02",
   "metadata": {},
   "outputs": [],
   "source": [
    "data_311_grpby_comp1 = data_311_grpby_comp.reset_index().copy()"
   ]
  },
  {
   "cell_type": "code",
   "execution_count": 89,
   "id": "b85c8731",
   "metadata": {},
   "outputs": [],
   "source": [
    "Fraction_All_Zips = data_311_grpby_comp1[data_311_grpby_comp1[\"Complaint Type\"] == \"Illegal Parking\"][0]/data_311_grpby_comp1.sum(0)[0]"
   ]
  },
  {
   "cell_type": "code",
   "execution_count": 90,
   "id": "61ca4d93",
   "metadata": {},
   "outputs": [],
   "source": [
    "Fraction_All_Zips = float(Fraction_All_Zips)"
   ]
  },
  {
   "cell_type": "code",
   "execution_count": 91,
   "id": "756f0740",
   "metadata": {},
   "outputs": [
    {
     "data": {
      "text/plain": [
       "0.07487334365033108"
      ]
     },
     "execution_count": 91,
     "metadata": {},
     "output_type": "execute_result"
    }
   ],
   "source": [
    "Fraction_All_Zips"
   ]
  },
  {
   "cell_type": "code",
   "execution_count": 92,
   "id": "6a4405fb",
   "metadata": {},
   "outputs": [],
   "source": [
    "higher_parking_proportion = Fraction_Incident_Zip > Fraction_All_Zips"
   ]
  },
  {
   "cell_type": "code",
   "execution_count": 93,
   "id": "b2aa0f93",
   "metadata": {},
   "outputs": [
    {
     "data": {
      "text/plain": [
       "False"
      ]
     },
     "execution_count": 93,
     "metadata": {},
     "output_type": "execute_result"
    }
   ],
   "source": [
    "higher_parking_proportion"
   ]
  },
  {
   "cell_type": "code",
   "execution_count": 94,
   "id": "907e3885",
   "metadata": {},
   "outputs": [
    {
     "data": {
      "text/plain": [
       "bool"
      ]
     },
     "execution_count": 94,
     "metadata": {},
     "output_type": "execute_result"
    }
   ],
   "source": [
    "#type(higher_parking_proportion)"
   ]
  }
 ],
 "metadata": {
  "kernelspec": {
   "display_name": "Python 3 (ipykernel)",
   "language": "python",
   "name": "python3"
  },
  "language_info": {
   "codemirror_mode": {
    "name": "ipython",
    "version": 3
   },
   "file_extension": ".py",
   "mimetype": "text/x-python",
   "name": "python",
   "nbconvert_exporter": "python",
   "pygments_lexer": "ipython3",
   "version": "3.9.7"
  }
 },
 "nbformat": 4,
 "nbformat_minor": 5
}
