{
 "cells": [
  {
   "cell_type": "code",
   "execution_count": 20,
   "id": "f983ae63",
   "metadata": {},
   "outputs": [],
   "source": [
    "import pandas as pd\n",
    "data_311 = pd.read_csv(\"311_Service_Requests_2020.csv\")"
   ]
  },
  {
   "cell_type": "code",
   "execution_count": 21,
   "id": "71d03094",
   "metadata": {},
   "outputs": [],
   "source": [
    "data_311_zip = data_311[data_311[\"Incident Zip\"] == 10027]"
   ]
  },
  {
   "cell_type": "code",
   "execution_count": 22,
   "id": "fa6060c3",
   "metadata": {},
   "outputs": [
    {
     "data": {
      "text/plain": [
       "Complaint Type\n",
       "APPLIANCE                  125\n",
       "Abandoned Vehicle           83\n",
       "Air Quality                 60\n",
       "Animal in a Park            27\n",
       "Animal-Abuse                71\n",
       "                          ... \n",
       "Violation of Park Rules     79\n",
       "WATER LEAK                 249\n",
       "Water Conservation           7\n",
       "Water Quality               51\n",
       "Water System               218\n",
       "Length: 125, dtype: int64"
      ]
     },
     "execution_count": 22,
     "metadata": {},
     "output_type": "execute_result"
    }
   ],
   "source": [
    "data_311_zip.groupby(\"Complaint Type\").size()"
   ]
  },
  {
   "cell_type": "code",
   "execution_count": 23,
   "id": "2a92cdf4",
   "metadata": {},
   "outputs": [],
   "source": [
    "top10 = data_311_zip.groupby(\"Complaint Type\").size().sort_values(ascending = False).head(10)"
   ]
  },
  {
   "cell_type": "code",
   "execution_count": 24,
   "id": "12a0191e",
   "metadata": {},
   "outputs": [
    {
     "data": {
      "text/plain": [
       "Complaint Type\n",
       "Noise - Residential            3610\n",
       "Noise - Street/Sidewalk        3087\n",
       "HEAT/HOT WATER                 2138\n",
       "Illegal Parking                1118\n",
       "Non-Emergency Police Matter     862\n",
       "Illegal Fireworks               779\n",
       "Noise - Vehicle                 647\n",
       "UNSANITARY CONDITION            628\n",
       "PLUMBING                        465\n",
       "Noise                           443\n",
       "dtype: int64"
      ]
     },
     "execution_count": 24,
     "metadata": {},
     "output_type": "execute_result"
    }
   ],
   "source": [
    "top10"
   ]
  },
  {
   "cell_type": "code",
   "execution_count": 25,
   "id": "eff6a104",
   "metadata": {},
   "outputs": [
    {
     "data": {
      "text/plain": [
       "pandas.core.series.Series"
      ]
     },
     "execution_count": 25,
     "metadata": {},
     "output_type": "execute_result"
    }
   ],
   "source": [
    "#type(top10)"
   ]
  }
 ],
 "metadata": {
  "kernelspec": {
   "display_name": "Python 3 (ipykernel)",
   "language": "python",
   "name": "python3"
  },
  "language_info": {
   "codemirror_mode": {
    "name": "ipython",
    "version": 3
   },
   "file_extension": ".py",
   "mimetype": "text/x-python",
   "name": "python",
   "nbconvert_exporter": "python",
   "pygments_lexer": "ipython3",
   "version": "3.9.7"
  }
 },
 "nbformat": 4,
 "nbformat_minor": 5
}
